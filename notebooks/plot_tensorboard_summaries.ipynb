{
  "nbformat": 4,
  "nbformat_minor": 2,
  "metadata": {
    "colab": {
      "name": "PlotPackage.ipynb",
      "provenance": [],
      "collapsed_sections": [],
      "toc_visible": true
    },
    "kernelspec": {
      "name": "python3",
      "display_name": "Python 3.7.10 64-bit ('neroRL': conda)"
    },
    "language_info": {
      "name": "python",
      "version": "3.7.10",
      "mimetype": "text/x-python",
      "codemirror_mode": {
        "name": "ipython",
        "version": 3
      },
      "pygments_lexer": "ipython3",
      "nbconvert_exporter": "python",
      "file_extension": ".py"
    },
    "interpreter": {
      "hash": "f36f31e000227573d3d0ed522c470c4a0cdf1dbaf10b888598c49c2236acc0c2"
    }
  },
  "cells": [
    {
      "cell_type": "markdown",
      "source": [
        "# Imports"
      ],
      "metadata": {
        "id": "RUad02g30CRN"
      }
    },
    {
      "cell_type": "code",
      "execution_count": null,
      "source": [
        "import os\r\n",
        "import numpy as np\r\n",
        "import scipy.stats as st\r\n",
        "import matplotlib.pyplot as plt\r\n",
        "from tensorboard.backend.event_processing.event_accumulator import EventAccumulator\r\n",
        "from glob import glob"
      ],
      "outputs": [],
      "metadata": {
        "id": "WUZii4-tvE5L"
      }
    },
    {
      "cell_type": "markdown",
      "source": [
        "# Load Data"
      ],
      "metadata": {
        "id": "JtL6_wy90EdG"
      }
    },
    {
      "cell_type": "code",
      "execution_count": null,
      "source": [
        "# Determine the run ids by the directories in the current location\r\n",
        "run_ids = [name for name in os.listdir(\"./\") if os.path.isdir(os.path.join(\"./\", name))]\r\n",
        "# Retrieve the paths to the tensorboard summaries\r\n",
        "data_paths = {}\r\n",
        "for id in run_ids:\r\n",
        "    data_paths[id] = glob(os.path.join(id, \"*\", \"*\"))"
      ],
      "outputs": [],
      "metadata": {}
    },
    {
      "cell_type": "code",
      "execution_count": null,
      "source": [
        "# Check available keys\r\n",
        "summary = EventAccumulator(data_paths[run_ids[0]][0])\r\n",
        "summary.Reload()\r\n",
        "print(summary.scalars.Keys())"
      ],
      "outputs": [],
      "metadata": {
        "colab": {
          "base_uri": "https://localhost:8080/"
        },
        "id": "Z_5pDRCK0kSA",
        "outputId": "e4c5bb1c-b418-4921-9024-2ef8e62a681b"
      }
    },
    {
      "cell_type": "code",
      "execution_count": null,
      "source": [
        "# Initialize Tensorboard EventAccumulators\r\n",
        "data_summaries = {}\r\n",
        "for key in data_paths:\r\n",
        "    data_summaries[key] = [EventAccumulator(path) for path in data_paths[key]]"
      ],
      "outputs": [],
      "metadata": {}
    },
    {
      "cell_type": "code",
      "execution_count": null,
      "source": [
        "# Load data into a nested dictionary\r\n",
        "desired_tags = summary.scalars.Keys()[:-3] # -3 removes the data for the decaying hyperparameters\r\n",
        "\r\n",
        "steps = {} # steps have to be saved for each summary tag, because some might not be of the same length\r\n",
        "data = {}\r\n",
        "for tag in desired_tags:\r\n",
        "    data[tag] = {}\r\n",
        "    for run_id in data_summaries.keys():\r\n",
        "        data[tag][run_id] = []\r\n",
        "        for run in data_summaries[run_id]:\r\n",
        "            run.Reload()\r\n",
        "            _, t, values = zip(*run.Scalars(tag))\r\n",
        "            data[tag][run_id].append(values)\r\n",
        "        data[tag][run_id] = np.asarray(data[tag][run_id])\r\n",
        "        steps[tag] = np.asarray(t)"
      ],
      "outputs": [],
      "metadata": {}
    },
    {
      "cell_type": "markdown",
      "source": [
        "# Process data"
      ],
      "metadata": {
        "id": "eGo59Neq31iC"
      }
    },
    {
      "cell_type": "code",
      "execution_count": null,
      "source": [
        "# Function to calculate the asymmetric standard deviation\r\n",
        "def asymmetric_std(data):\r\n",
        "  mean = np.mean(data)\r\n",
        "\r\n",
        "  x_up = np.where(data >= mean)[0] # returns indices\r\n",
        "  x_up = data[x_up.tolist()]\r\n",
        "  k = x_up.shape[0]\r\n",
        "\r\n",
        "  x_down = np.where(data <= mean)[0] # returns indices\r\n",
        "  x_down = data[x_down.tolist()]\r\n",
        "  l = x_down.shape[0]\r\n",
        "\r\n",
        "  std_up = np.sqrt((1/(k)) * np.sum((x_up-mean)**2))\r\n",
        "  std_down = np.sqrt((1/(l)) * np.sum((x_down-mean)**2))\r\n",
        "\r\n",
        "  return std_up, std_down"
      ],
      "outputs": [],
      "metadata": {}
    },
    {
      "cell_type": "code",
      "execution_count": null,
      "source": [
        "# Process the data by computing several outputs for each run id\r\n",
        "# This aggregates all training runs for one run id\r\n",
        "# The leaves of the nested dictionary are numpy arrays now\r\n",
        "desired_outputs = [\"mean\", \"std\"]\r\n",
        "\r\n",
        "results = {}\r\n",
        "for tag in desired_tags:\r\n",
        "    results[tag] = {}\r\n",
        "    for run_id in run_ids:\r\n",
        "        results[tag][run_id] = {}\r\n",
        "        for output in desired_outputs:\r\n",
        "            if output == \"mean\":\r\n",
        "                results[tag][run_id][output] = np.mean(data[tag][run_id], axis=0)\r\n",
        "            elif output == \"std\":\r\n",
        "                results[tag][run_id][output] = np.std(data[tag][run_id], axis=0)\r\n",
        "            elif output == \"astd\":\r\n",
        "                std_up, std_down = asymmetric_std(data[tag][run_id])\r\n",
        "                results[tag][run_id][output] = (std_up, std_down)"
      ],
      "outputs": [],
      "metadata": {}
    },
    {
      "cell_type": "markdown",
      "source": [
        "# Plotting"
      ],
      "metadata": {}
    },
    {
      "cell_type": "code",
      "execution_count": null,
      "source": [
        "def plot(data, steps, tag, run_ids, save = False, title = \"default\"):\r\n",
        "    plt.rcParams.update({'font.size': 12})\r\n",
        "    fig, ax = plt.subplots()\r\n",
        "    fig.set_size_inches(7, 5.5)\r\n",
        "    for run_id in run_ids:\r\n",
        "        ax.plot(steps[tag], data[tag][run_id][\"mean\"])\r\n",
        "        ax.fill_between(steps[tag], data[tag][run_id][\"mean\"] - data[tag][run_id][\"std\"], data[tag][run_id][\"mean\"] + data[tag][run_id][\"std\"], alpha=0.3)\r\n",
        "    ax.set_xlabel(\"PPO Updates\")\r\n",
        "    ax.set_ylabel(tag)\r\n",
        "    ax.set_title(title)\r\n",
        "    plt.legend(run_ids)\r\n",
        "    if save:\r\n",
        "        plt.savefig(title + \".pdf\")\r\n",
        "    else:\r\n",
        "        plt.show()"
      ],
      "outputs": [],
      "metadata": {}
    },
    {
      "cell_type": "markdown",
      "source": [
        "# Plot Standard Deviation"
      ],
      "metadata": {
        "id": "3j0EmVUmAGry"
      }
    },
    {
      "cell_type": "markdown",
      "source": [
        "## Mean Reward"
      ],
      "metadata": {
        "id": "GO7b--kwALtP"
      }
    },
    {
      "cell_type": "code",
      "execution_count": null,
      "source": [
        "plot(results, steps, \"episode/reward_mean\", run_ids, save=False, title=\"Training - Mean Reward and Std\")"
      ],
      "outputs": [],
      "metadata": {
        "colab": {
          "base_uri": "https://localhost:8080/",
          "height": 384
        },
        "id": "f3B9xJkF_pH3",
        "outputId": "38418ec7-b958-481c-bf57-337e38aeb2e6"
      }
    },
    {
      "cell_type": "markdown",
      "source": [
        "## Mean Length"
      ],
      "metadata": {
        "id": "jnR0RNFhALTq"
      }
    },
    {
      "cell_type": "code",
      "execution_count": null,
      "source": [
        "plot(results, steps, \"episode/length_mean\", run_ids, save=False, title=\"Training - Mean Length and Std\")"
      ],
      "outputs": [],
      "metadata": {
        "colab": {
          "base_uri": "https://localhost:8080/",
          "height": 384
        },
        "id": "3Fe1_fbcAOLT",
        "outputId": "19a7019f-35cf-44c4-bdf2-545a77dbe18e"
      }
    },
    {
      "cell_type": "markdown",
      "source": [
        "## Plot all tags to file"
      ],
      "metadata": {}
    },
    {
      "cell_type": "code",
      "execution_count": null,
      "source": [
        "for tag in desired_tags:\r\n",
        "    title = tag.replace(\"/\", \"-\")\r\n",
        "    plot(results, steps, tag, run_ids, save=True, title=title)"
      ],
      "outputs": [],
      "metadata": {}
    }
  ]
}